{
 "cells": [
  {
   "cell_type": "markdown",
   "metadata": {},
   "source": [
    "# Fractals"
   ]
  },
  {
   "cell_type": "code",
   "execution_count": null,
   "metadata": {},
   "outputs": [],
   "source": [
    "import numpy as np\n",
    "import matplotlib as mpl\n",
    "import matplotlib.pyplot as plt\n",
    "import tools.fractools as ft\n",
    "from tools.fractools import complex\n",
    "from matplotlib.animation import FuncAnimation\n",
    "from tqdm import tqdm\n",
    "\n",
    "# Increase font size of plots\n",
    "plt.rcParams.update({'font.size': 13.5})\n",
    "\n",
    "# Automatically reload modules with saved changes\n",
    "%load_ext autoreload\n",
    "%autoreload 2"
   ]
  },
  {
   "cell_type": "markdown",
   "metadata": {},
   "source": [
    "---\n",
    "## Koch snowflake\n",
    "The procedure for generating a Koch snowflake starts with a line bound by two points. The line is split into 3 equal segments defined by 4 points, and the central segment is then bent into an angle (conventionally 60 degrees), thereby resulting in a shape consisting of 4 lines. This sequence is applied iteratively to each line, resulting in a Koch fractal, which can be stitched with two rotated copies of itself to form a Koch snowflake."
   ]
  },
  {
   "cell_type": "code",
   "execution_count": null,
   "metadata": {},
   "outputs": [],
   "source": [
    "# >>> Plot a basic Koch snowflake\n",
    "\n",
    "# Initial points and test snowflake\n",
    "x = np.array([-1, 1])\n",
    "y = np.array([0, 0])\n",
    "s = ft.koch_snowflake(x, y, 8, np.pi/3)\n",
    "\n",
    "# Create a square figure and plot the snowflake\n",
    "fig, ax = plt.subplots(figsize = (5, 5))\n",
    "ax.plot(s[0], s[1], color = 'b', lw = 1)\n",
    "\n",
    "# Remove ticks and show plot\n",
    "ax.set_xticks([]), ax.set_yticks([])\n",
    "plt.savefig('outputs/snowflake.png', dpi = 300, bbox_inches = 'tight')\n",
    "plt.show()"
   ]
  },
  {
   "cell_type": "code",
   "execution_count": null,
   "metadata": {},
   "outputs": [],
   "source": [
    "# >>> Make an animation of varying Koch angles\n",
    "\n",
    "# Specify number of frames\n",
    "nframes = 300\n",
    "\n",
    "# Initial line definition\n",
    "x = np.array([-1, 1])\n",
    "y = np.array([0, 0])\n",
    "\n",
    "# Set angle values and calculate a snowflake for each one\n",
    "thetas = np.linspace(0.01, 1.99*np.pi, nframes)\n",
    "snowflakes = [ft.koch_snowflake(x, y, 5, theta) for theta in tqdm(thetas)]\n",
    "\n",
    "# Set temporary formatting\n",
    "with mpl.rc_context({'lines.linewidth': 2, 'axes.facecolor': 'black'},):\n",
    "\n",
    "    # Create figure first and format\n",
    "    fig, ax = plt.subplots(figsize = (5, 5))\n",
    "    fig.patch.set_alpha(0)\n",
    "\n",
    "    # Define a frame update function\n",
    "    def update_koch(frame):\n",
    "        ax.clear()\n",
    "        plt.plot(snowflakes[frame][0], snowflakes[frame][1], color = 'b')\n",
    "        ax.set_xticks([])\n",
    "        ax.set_yticks([])\n",
    "        return\n",
    "\n",
    "    # Save the animation as a gif\n",
    "    anim = FuncAnimation(fig, update_koch, frames = tqdm(range(nframes)), blit = False)\n",
    "    anim.save('outputs/koch_snowflake.gif', writer = 'pillow', fps = 20, dpi = 300)"
   ]
  },
  {
   "cell_type": "markdown",
   "metadata": {},
   "source": [
    "---\n",
    "## Sierpinski triangle\n",
    "A Sierpinski triangle is formed by connecting the midpoints of all three edges of an equilateral triangle, thereby dividing it into four equilateral triangles, and repeating indefinitely."
   ]
  },
  {
   "cell_type": "code",
   "execution_count": null,
   "metadata": {},
   "outputs": [],
   "source": [
    "# >>> Plot a basic Sierpinski triangle\n",
    "\n",
    "# Create a square figure first\n",
    "fig, ax = plt.subplots(figsize = (5, 5))\n",
    "\n",
    "# Initial points and test triangle\n",
    "triangle = np.array([(-1, -1), (1, -1), (0, 1)])\n",
    "ft.sierpinski_triangle(ax, triangle, 6, color = 'b', lw = '0.1')\n",
    "\n",
    "# Remove ticks, set axis limits, and show plot\n",
    "ax.set_xticks([]), ax.set_yticks([])\n",
    "plt.xlim(-1.1, 1.1)\n",
    "plt.ylim(-1.1, 1.1)\n",
    "plt.show()"
   ]
  },
  {
   "cell_type": "code",
   "execution_count": null,
   "metadata": {},
   "outputs": [],
   "source": [
    "# >>> Make an animation of varying Koch angles\n",
    "\n",
    "# Specify number of frames\n",
    "nframes = 60\n",
    "\n",
    "# Set size of steps for zooming in\n",
    "step_size = 1/nframes\n",
    "\n",
    "# Create figure first and format\n",
    "fig, ax = plt.subplots(figsize = (5, 5))\n",
    "fig.patch.set_alpha(0)\n",
    "ax.set_xticks([]), ax.set_yticks([])\n",
    "\n",
    "# Plot all the triangles first\n",
    "triangle = np.array([[-1, -1], [1, -1], [0, 1]])\n",
    "ft.sierpinski_triangle(ax, triangle, 8, color = 'b', lw = '0.1')\n",
    "\n",
    "# Define a frame update function that gradually zooms in\n",
    "def update_sierpinski(frame):\n",
    "    plt.xlim(-(1 - frame*step_size), 1)\n",
    "    plt.ylim(-1, (1 - frame*step_size))\n",
    "    return\n",
    "\n",
    "# Save the animation as a gif\n",
    "anim = FuncAnimation(fig, update_sierpinski, frames = tqdm(range(nframes + 1)), blit = False)\n",
    "anim.save('outputs/sierpinski.gif', writer = 'pillow', fps = 30, dpi = 300)"
   ]
  },
  {
   "cell_type": "markdown",
   "metadata": {},
   "source": [
    "---\n",
    "## Julia sets and the Mandelbrot set\n",
    "This is essentially an example of how fractals can manifest from simple iterations of complex functions. The iteration in question is taken as $z \\rightarrow z^2 + c$, where both $z$ and $c$ are complex numbers. Different Julia sets arise for a constant $c$ and varying starting $z$ points, whereas the Mandelbrot set describes a special case with $z$ starting at the origin and $c$ changing. Whether the sequence diverges or converges determines how the initial point is plotted, which results in very intricate structures."
   ]
  },
  {
   "cell_type": "code",
   "execution_count": null,
   "metadata": {},
   "outputs": [],
   "source": [
    "# >>> Animate an example Julia set\n",
    "\n",
    "# Create figure first and format\n",
    "fig, ax = plt.subplots(figsize = (5, 5))\n",
    "fig.patch.set_alpha(0)\n",
    "ax.set_xticks([]), ax.set_yticks([])\n",
    "\n",
    "# Fractal settings\n",
    "n_vals = 500 # binning\n",
    "val_range = np.array([-1.5, 1.5])\n",
    "c = complex(0, 0.66)\n",
    "\n",
    "# Animation settings\n",
    "nframes = 30\n",
    "fpoint = np.array([0.3, 0.5]) # destination of zoom\n",
    "steps = (fpoint - val_range) / nframes\n",
    "\n",
    "# Define a frame update function that gradually zooms in\n",
    "def julia_zoom(frame):\n",
    "    vals = np.linspace(val_range[0] + steps[0]*frame, val_range[1] + steps[1]*frame, n_vals)\n",
    "    d = np.array([[complex.iterate(complex(a, b), c, max_iter = 100, threshold = 10) \\\n",
    "                   for b in vals] for a in vals])\n",
    "    plt.imshow(d.T, cmap = 'bone')\n",
    "    return\n",
    "\n",
    "# Save the animation as a gif\n",
    "anim = FuncAnimation(fig, julia_zoom, frames = tqdm(range(nframes + 1), position = 0), blit = False)\n",
    "anim.save('outputs/julia.gif', writer = 'pillow', fps = 15, dpi = 300)"
   ]
  },
  {
   "cell_type": "code",
   "execution_count": null,
   "metadata": {},
   "outputs": [],
   "source": [
    "# >>> Animate an example Mandelbrot set\n",
    "\n",
    "# Create figure first and format\n",
    "fig, ax = plt.subplots(figsize = (5, 5))\n",
    "fig.patch.set_alpha(0)\n",
    "ax.set_xticks([]), ax.set_yticks([])\n",
    "\n",
    "# Fractal settings\n",
    "n_vals = 500 # binning\n",
    "a_range = np.array([-2.1, 1])\n",
    "b_range = np.array([-1.5, 1.5])\n",
    "z = complex(0, 0)\n",
    "\n",
    "# Animation settings\n",
    "nframes = 30\n",
    "fpoint_a = np.array([-0.4, 0.1]) # destination of zoom for a\n",
    "fpoint_b = np.array([-1.2, -0.7]) # destination of zoom for b\n",
    "steps_a = (fpoint_a - a_range) / nframes\n",
    "steps_b = (fpoint_b - b_range) / nframes\n",
    "\n",
    "# Define a frame update function that gradually zooms in\n",
    "def mandelbrot_zoom(frame):\n",
    "    a_vals = np.linspace(a_range[0] + steps_a[0]*frame, a_range[1] + steps_a[1]*frame, n_vals)\n",
    "    b_vals = np.linspace(b_range[0] + steps_b[0]*frame, b_range[1] + steps_b[1]*frame, n_vals)\n",
    "    d = np.array([[complex.iterate(z, complex(a, b), max_iter = 100, threshold = 5) \\\n",
    "                   for b in b_vals] for a in a_vals])\n",
    "    plt.imshow(d.T, cmap = 'Blues_r')\n",
    "    return\n",
    "\n",
    "# Save the animation as a gif\n",
    "anim = FuncAnimation(fig, mandelbrot_zoom, frames = tqdm(range(nframes + 1), position = 0), blit = False)\n",
    "anim.save('outputs/mandelbrot.gif', writer = 'pillow', fps = 15, dpi = 300)"
   ]
  },
  {
   "cell_type": "markdown",
   "metadata": {},
   "source": [
    "### Mandelbulb\n",
    "A 3D extension of the Mandelbrot set, where the iterative function now looks more like $z \\rightarrow z^n + c$, where $z$ is approximated as a \"triplex\" number instead of a complex number. Useful references for reproducing this work are from Daniel White on [Skytopia](https://www.skytopia.com/project/fractal/mandelbulb.html) and Daniel Shiffman's \"The Coding Train\" [episode](https://www.youtube.com/watch?v=NJCiUVGiNyA)."
   ]
  },
  {
   "cell_type": "code",
   "execution_count": null,
   "metadata": {},
   "outputs": [],
   "source": [
    "# >>> Mandelbulb extension\n",
    "\n",
    "# Compute the Mandelbulb first\n",
    "v = np.linspace(-1, 1, 128)\n",
    "x, y, z = ft.mandelbulb(v, v, v, n = 16, max_iter = 20, threshold = 2)\n",
    "\n",
    "# Create a 3D figure first\n",
    "fig = plt.figure()\n",
    "ax = fig.add_subplot(projection='3d')\n",
    "\n",
    "# Formatting\n",
    "fig.set_facecolor('black')\n",
    "ax.set_facecolor('black')\n",
    "ax.w_xaxis.set_pane_color((0.0, 0.0, 0.0, 0.0))\n",
    "ax.w_yaxis.set_pane_color((0.0, 0.0, 0.0, 0.0))\n",
    "ax.w_zaxis.set_pane_color((0.0, 0.0, 0.0, 0.0))\n",
    "ax.grid(False)\n",
    "ax.set_xlim(-1, 1)\n",
    "ax.set_ylim(-1, 1)\n",
    "ax.set_zlim(np.min(z), np.max(z))\n",
    "\n",
    "# Plot points\n",
    "ax.scatter(x, y, z, color = 'white', s = 0.1)\n",
    "\n",
    "# Animation settings\n",
    "nframes = 359 # should be odd to accommodate elevs\n",
    "azims = np.linspace(0, 360, nframes)\n",
    "angles = np.linspace(-45, 45, int(np.ceil(nframes/2)))\n",
    "elevs = np.concatenate((angles, np.flip(angles[:-1])))\n",
    "\n",
    "# Define a frame update function that rotates\n",
    "def bulb_rotation(frame):\n",
    "    ax.view_init(elev = elevs[frame], azim = azims[frame])\n",
    "    return\n",
    "\n",
    "# Save the animation as a gif\n",
    "anim = FuncAnimation(fig, bulb_rotation, frames = tqdm(range(nframes), position = 0), blit = False)\n",
    "anim.save('outputs/mandelbulb.gif', writer = 'pillow', fps = 30, dpi = 300)"
   ]
  }
 ],
 "metadata": {
  "kernelspec": {
   "display_name": "base",
   "language": "python",
   "name": "python3"
  },
  "language_info": {
   "codemirror_mode": {
    "name": "ipython",
    "version": 3
   },
   "file_extension": ".py",
   "mimetype": "text/x-python",
   "name": "python",
   "nbconvert_exporter": "python",
   "pygments_lexer": "ipython3",
   "version": "3.9.13"
  }
 },
 "nbformat": 4,
 "nbformat_minor": 2
}
